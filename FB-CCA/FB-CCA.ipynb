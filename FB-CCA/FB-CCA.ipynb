{
  "cells": [
    {
      "cell_type": "markdown",
      "metadata": {},
      "source": [
        "# **FB-CCA**"
      ]
    },
    {
      "cell_type": "code",
      "execution_count": null,
      "metadata": {
        "colab": {
          "base_uri": "https://localhost:8080/",
          "height": 286
        },
        "id": "qajcMLjnTTqC",
        "outputId": "9ccdf8ea-3aea-4b7d-e845-47fe80275513"
      },
      "outputs": [],
      "source": [
        "from dataset import EEGDataset\n",
        "\n",
        "data_path = r\"path\\to\\dataset\"\n",
        "\n",
        "# Initialize dataset loader\n",
        "dataset = EEGDataset(data_path)\n",
        "print(dir(dataset))  # This should list all available methods\n",
        "# Load all subjects\n",
        "dataset.load_all_subjects()\n",
        "print(\"Subjects loaded:\", dataset.raw_data.keys())"
      ]
    },
    {
      "cell_type": "code",
      "execution_count": null,
      "metadata": {},
      "outputs": [],
      "source": [
        "from preprocessing import EEGPreprocessor\n",
        "\n",
        "# Initialize preprocessing\n",
        "sfreq = 1000  # Sampling frequency\n",
        "preprocessor = EEGPreprocessor(sfreq, l_freq=6.0, h_freq=30.0)\n",
        "\n",
        "# Define channels of interest\n",
        "channels_of_interest = ['O1', 'O2', 'Oz', 'Fz']\n",
        "valid_keys = ['1','2','3','4','5','6','7','8','9']\n",
        "# Preprocess subjects\n",
        "epochs_data = {}\n",
        "for subject, raw in dataset.raw_data.items():\n",
        "    raw_filtered = preprocessor.filter_data(raw)\n",
        "    epochs = preprocessor.create_epochs_from_raw(raw_filtered, tmin=0, tmax=4, \n",
        "                                                 valid_keys=valid_keys,\n",
        "                                                 channels_of_interest=channels_of_interest)\n",
        "    \n",
        "    epochs_data[subject] = epochs\n",
        "    print(f\"Processed {subject}: {len(epochs)} epochs extracted.\")"
      ]
    },
    {
      "cell_type": "code",
      "execution_count": null,
      "metadata": {},
      "outputs": [],
      "source": [
        "from feature_extraction import FeatureExtractor\n",
        "from classifier import EEGClassifier\n",
        "from utils import get_event_mapping\n",
        "import numpy as np\n",
        "\n",
        "# Feature Extraction (Using CCA with Filterbank)\n",
        "feature_extractor = FeatureExtractor(method=\"CCA\", filterbank=True, num_harmonics=5)\n",
        "\n",
        "features = []\n",
        "labels = []\n",
        "for subject, epochs in epochs_data.items():\n",
        "    X = feature_extractor.extract_features(epochs)\n",
        "    y = epochs.events[:, -1]  # Assuming labels are stored in events\n",
        "    features.append(X)\n",
        "    labels.append(y)\n",
        "\n",
        "# Concatenate features and labels\n",
        "X_all = np.vstack(features)\n",
        "y_all = np.concatenate(labels)\n",
        "\n",
        "# Classification (Leave-Subject-Out using KNN)\n",
        "classifier = EEGClassifier(n_neighbors=5)\n",
        "accuracy = classifier.classify(X_all, y_all)\n",
        "\n",
        "print(f\"Classification Accuracy: {accuracy:.4f}\")\n"
      ]
    }
  ],
  "metadata": {
    "colab": {
      "collapsed_sections": [],
      "name": "EEG visual analysis",
      "provenance": []
    },
    "kernelspec": {
      "display_name": "base",
      "language": "python",
      "name": "python3"
    },
    "language_info": {
      "codemirror_mode": {
        "name": "ipython",
        "version": 3
      },
      "file_extension": ".py",
      "mimetype": "text/x-python",
      "name": "python",
      "nbconvert_exporter": "python",
      "pygments_lexer": "ipython3",
      "version": "3.11.7"
    }
  },
  "nbformat": 4,
  "nbformat_minor": 0
}
